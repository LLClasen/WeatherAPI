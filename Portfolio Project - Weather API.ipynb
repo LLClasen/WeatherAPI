{
 "cells": [
  {
   "cell_type": "code",
   "execution_count": null,
   "metadata": {},
   "outputs": [],
   "source": [
    "##Lara Clasen\n",
    "##DSC 510 Bellevue University\n",
    "##Weather API"
   ]
  },
  {
   "cell_type": "code",
   "execution_count": null,
   "metadata": {},
   "outputs": [],
   "source": [
    "import requests\n",
    "from pprint import pprint"
   ]
  },
  {
   "cell_type": "code",
   "execution_count": null,
   "metadata": {},
   "outputs": [],
   "source": [
    "\n",
    "def main():\n",
    "    while True:\n",
    "        try:\n",
    "            userInput = input('Enter your location: ')\n",
    "            if not userInput:\n",
    "                print('Please be sure to make an entry')\n",
    "                continue\n",
    "        except:\n",
    "            pass\n",
    "        else:\n",
    "            break\n",
    "\n",
    "    # use API to pull weather info for user input zip location in imperial system output\n",
    "    url = 'https://api.openweathermap.org/data/2.5/weather?q={location},us&appid=02cdaa6099a634a901fa576159219b45&units=imperial'.format(\n",
    "        location=userInput)\n",
    "\n",
    "    # response data from the url and API\n",
    "    res = requests.get(url)\n",
    "\n",
    "    # parse response data in json\n",
    "    data = res.json()\n",
    "\n",
    "    # validate user input location\n",
    "    if data[\"cod\"] != \"404\":\n",
    "\n",
    "        # define each desired stat to pull from url\n",
    "        temp = data['main']['temp']\n",
    "        high_temp = data['main']['temp_max']\n",
    "        low_temp = data['main']['temp_min']\n",
    "        wind_speed = data['wind']['speed']\n",
    "        humidity = data['main']['humidity']\n",
    "        description = data['weather'][0]['description']\n",
    "\n",
    "        # print empty line and then each desired weather stat in pretty output for user\n",
    "        print(\"\\n\")\n",
    "        print('Current weather conditions for {} are:'.format(userInput))\n",
    "        print('Temperature : {} degrees Fahrenheit'.format(temp))\n",
    "        print('High Temperature : {} degrees Fahrenheit'.format(high_temp))\n",
    "        print('Low Temperature : {} degrees Fahrenheit'.format(low_temp))\n",
    "        print('Wind Speed : {} mph'.format(wind_speed))\n",
    "        print('Humidity : {}%'.format(humidity))\n",
    "        print(str.title('Description : {}'.format(description)))\n",
    "        print(\"\\n\")\n",
    "    else:\n",
    "        print('Location not found')\n",
    "\n",
    "    #allow user to retrieve weather info for another location\n",
    "    while True:\n",
    "        answer = input(\"Run again? (y/n): \")\n",
    "        if answer not in ('y', 'n', 'Y', 'N'):\n",
    "            print(\"Invalid input.\")\n",
    "            continue\n",
    "        if answer == 'y':\n",
    "            main()\n",
    "        if answer == 'Y':\n",
    "            main()\n",
    "        if answer == 'n':\n",
    "            print('Thanks for using the weather app. Goodbye!')\n",
    "            break\n",
    "        else:\n",
    "            print(\"Thanks for using the weather app. Goodbye!\")\n",
    "            break\n",
    "\n",
    "# call main function\n",
    "if __name__ == '__main__':\n",
    "    main()"
   ]
  },
  {
   "cell_type": "code",
   "execution_count": null,
   "metadata": {},
   "outputs": [],
   "source": []
  }
 ],
 "metadata": {
  "kernelspec": {
   "display_name": "Python 3",
   "language": "python",
   "name": "python3"
  },
  "language_info": {
   "codemirror_mode": {
    "name": "ipython",
    "version": 3
   },
   "file_extension": ".py",
   "mimetype": "text/x-python",
   "name": "python",
   "nbconvert_exporter": "python",
   "pygments_lexer": "ipython3",
   "version": "3.7.3"
  }
 },
 "nbformat": 4,
 "nbformat_minor": 2
}
